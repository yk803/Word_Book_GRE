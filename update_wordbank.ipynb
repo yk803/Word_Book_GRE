{
 "cells": [
  {
   "cell_type": "markdown",
   "metadata": {},
   "source": [
    "# This notebook serves as an interface to update the vocabulary book"
   ]
  },
  {
   "cell_type": "code",
   "execution_count": 1,
   "metadata": {},
   "outputs": [],
   "source": [
    "from vocab_gre import wordbank,word,definition\n",
    "from os import system\n",
    "vocab_book = wordbank('词表.json') #word file name default to \"词表.json\""
   ]
  },
  {
   "cell_type": "markdown",
   "metadata": {},
   "source": [
    "# Enter the new word in the next block"
   ]
  },
  {
   "cell_type": "code",
   "execution_count": 22,
   "metadata": {},
   "outputs": [],
   "source": [
    "new_word_str = 'clandestine'\n",
    "new_word = word(new_word_str)"
   ]
  },
  {
   "cell_type": "markdown",
   "metadata": {},
   "source": [
    "# Add definition(s) to the new word"
   ]
  },
  {
   "cell_type": "code",
   "execution_count": 23,
   "metadata": {},
   "outputs": [
    {
     "name": "stdout",
     "output_type": "stream",
     "text": [
      "Enter Chinese Definition: 秘密的\n",
      "Enter English Definition: \n",
      "Enter synonyms, separated with commas: covert, furtive, surreptitious\n",
      "Enter antonyms, separated with commas: \n",
      "Enter example sentence: \n",
      "Enter comments: \n"
     ]
    }
   ],
   "source": [
    "new_word.define()"
   ]
  },
  {
   "cell_type": "code",
   "execution_count": null,
   "metadata": {},
   "outputs": [],
   "source": [
    "#new_word.meanings"
   ]
  },
  {
   "cell_type": "markdown",
   "metadata": {},
   "source": [
    "# Update the vocabulary book"
   ]
  },
  {
   "cell_type": "code",
   "execution_count": 24,
   "metadata": {},
   "outputs": [],
   "source": [
    "vocab_book.add(new_word)"
   ]
  },
  {
   "cell_type": "code",
   "execution_count": null,
   "metadata": {
    "scrolled": true
   },
   "outputs": [],
   "source": [
    "#!tail -15 '词表.json'"
   ]
  },
  {
   "cell_type": "markdown",
   "metadata": {},
   "source": [
    "# Find a keyword (English or Chinese)"
   ]
  },
  {
   "cell_type": "code",
   "execution_count": 41,
   "metadata": {},
   "outputs": [
    {
     "name": "stdout",
     "output_type": "stream",
     "text": [
      "zealous\r\n",
      "考法1\r\n",
      "[中]: 热情的\r\n",
      "[近]: impassioned, f\u001b[43m\u001b[30mer\u001b[0mvent, fiery\r\n",
      "\r\n",
      "clandestine\r\n",
      "考法1\r\n",
      "[中]: 秘密的\r\n",
      "[近]: cov\u001b[43m\u001b[30mer\u001b[0mt, furtive, surreptitious\r\n",
      "\r\n"
     ]
    }
   ],
   "source": [
    "!python word_search.py er"
   ]
  },
  {
   "cell_type": "code",
   "execution_count": null,
   "metadata": {},
   "outputs": [],
   "source": []
  }
 ],
 "metadata": {
  "kernelspec": {
   "display_name": "Python 3",
   "language": "python",
   "name": "python3"
  },
  "language_info": {
   "codemirror_mode": {
    "name": "ipython",
    "version": 3
   },
   "file_extension": ".py",
   "mimetype": "text/x-python",
   "name": "python",
   "nbconvert_exporter": "python",
   "pygments_lexer": "ipython3",
   "version": "3.8.3"
  }
 },
 "nbformat": 4,
 "nbformat_minor": 4
}
